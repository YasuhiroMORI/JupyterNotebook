{
  "nbformat": 4,
  "nbformat_minor": 0,
  "metadata": {
    "colab": {
      "provenance": []
    },
    "kernelspec": {
      "name": "python3",
      "display_name": "Python 3"
    },
    "language_info": {
      "name": "python"
    }
  },
  "cells": [
    {
      "cell_type": "code",
      "execution_count": 1,
      "metadata": {
        "colab": {
          "base_uri": "https://localhost:8080/"
        },
        "id": "uUmuWRlmonXa",
        "outputId": "e7289f7c-b532-4ab4-bb33-e3d58873419c"
      },
      "outputs": [
        {
          "output_type": "execute_result",
          "data": {
            "text/plain": [
              "2"
            ]
          },
          "metadata": {},
          "execution_count": 1
        }
      ],
      "source": [
        "1+1"
      ]
    },
    {
      "cell_type": "markdown",
      "source": [
        "# TEST"
      ],
      "metadata": {
        "id": "n3oCe0S-oqTM"
      }
    },
    {
      "cell_type": "markdown",
      "source": [
        "$\n",
        "y = ax +b\n",
        "$ "
      ],
      "metadata": {
        "id": "-GaC3PU4ormG"
      }
    },
    {
      "cell_type": "code",
      "source": [],
      "metadata": {
        "id": "8qywlpIUot13"
      },
      "execution_count": null,
      "outputs": []
    }
  ]
}
